{
 "cells": [
  {
   "cell_type": "code",
   "execution_count": 1,
   "metadata": {},
   "outputs": [],
   "source": [
    "from sklearn.cluster import KMeans\n",
    "import seaborn as sns\n",
    "import matplotlib.pyplot as plt\n",
    "\n",
    "import pandas as pd"
   ]
  },
  {
   "cell_type": "code",
   "execution_count": 2,
   "metadata": {},
   "outputs": [],
   "source": [
    "# 한글 폰트 사용을 위해서 세팅\n",
    "from matplotlib import font_manager, rc\n",
    "font_path = \"C:/Windows/Fonts/malgun.ttf\"\n",
    "font = font_manager.FontProperties(fname=font_path).get_name()\n",
    "rc('font', family=font)"
   ]
  },
  {
   "cell_type": "code",
   "execution_count": 38,
   "metadata": {},
   "outputs": [],
   "source": [
    "def optimize_cluster(k_min, k_max, data):\n",
    "    # elbow method 이용해서 최적의 k값 찾을 수 있도록\n",
    "    X = data\n",
    "    k_range = list(range(k_min, k_max+1))\n",
    "    # elbow point를 찾는 이유는 군집수를 늘렸음에도 불구하고\n",
    "    # 거리 제곱의 합이 크게 줄어들지 않는 지점을 찾기 위함\n",
    "    # 군집수를 늘렸을 때 군집 내 거리 제곱의 합은 당연히 줄어듬\n",
    "    # 포인트는 크게 줄어들지 않는 그 순간을 찾는 것\n",
    "    sum_of_dist = []\n",
    "\n",
    "    for k in k_range:\n",
    "        kmeans = KMeans(n_clusters=k, random_state=21)\n",
    "        kmeans.fit(X)\n",
    "        sum_of_dist.append(kmeans.inertia_)\n",
    "\n",
    "    plt.figure(figsize=(12, 6))\n",
    "    plt.plot(k_range, sum_of_dist, 'o')\n",
    "    plt.plot(k_range, sum_of_dist, '-', alpha=0.5)\n",
    "    plt.title(\"Elbow Point\")\n",
    "    plt.xlabel(\"Number of Clusters\")\n",
    "    plt.ylabel(\"Inertia\")\n",
    "\n",
    "def vis_cluster(data, opt_k, x, y, p):\n",
    "    # 시각화용 함수\n",
    "\n",
    "    kmeans = KMeans(n_clusters=opt_k, random_state=21)\n",
    "\n",
    "    label = kmeans.fit_predict(data)\n",
    "    \n",
    "    plt.figure(figsize=(15, 6))\n",
    "    \n",
    "    sns.scatterplot(data=data, x=x, y=y, hue=label, palette=p, s=70)"
   ]
  },
  {
   "cell_type": "code",
   "execution_count": 4,
   "metadata": {},
   "outputs": [],
   "source": [
    "data = pd.read_csv(\"../../data/final_data/final_df_진짜최종.csv\")\n",
    "\n",
    "title = data.iloc[:,:1]\n",
    "data = data.iloc[:, 1:]"
   ]
  },
  {
   "cell_type": "code",
   "execution_count": 5,
   "metadata": {},
   "outputs": [
    {
     "data": {
      "text/html": [
       "<div>\n",
       "<style scoped>\n",
       "    .dataframe tbody tr th:only-of-type {\n",
       "        vertical-align: middle;\n",
       "    }\n",
       "\n",
       "    .dataframe tbody tr th {\n",
       "        vertical-align: top;\n",
       "    }\n",
       "\n",
       "    .dataframe thead th {\n",
       "        text-align: right;\n",
       "    }\n",
       "</style>\n",
       "<table border=\"1\" class=\"dataframe\">\n",
       "  <thead>\n",
       "    <tr style=\"text-align: right;\">\n",
       "      <th></th>\n",
       "      <th>title</th>\n",
       "    </tr>\n",
       "  </thead>\n",
       "  <tbody>\n",
       "    <tr>\n",
       "      <th>0</th>\n",
       "      <td>광화문연가</td>\n",
       "    </tr>\n",
       "    <tr>\n",
       "      <th>1</th>\n",
       "      <td>그날들</td>\n",
       "    </tr>\n",
       "    <tr>\n",
       "      <th>2</th>\n",
       "      <td>그리스</td>\n",
       "    </tr>\n",
       "  </tbody>\n",
       "</table>\n",
       "</div>"
      ],
      "text/plain": [
       "   title\n",
       "0  광화문연가\n",
       "1    그날들\n",
       "2    그리스"
      ]
     },
     "execution_count": 5,
     "metadata": {},
     "output_type": "execute_result"
    }
   ],
   "source": [
    "title.head(3)"
   ]
  },
  {
   "cell_type": "code",
   "execution_count": 6,
   "metadata": {},
   "outputs": [
    {
     "data": {
      "text/html": [
       "<div>\n",
       "<style scoped>\n",
       "    .dataframe tbody tr th:only-of-type {\n",
       "        vertical-align: middle;\n",
       "    }\n",
       "\n",
       "    .dataframe tbody tr th {\n",
       "        vertical-align: top;\n",
       "    }\n",
       "\n",
       "    .dataframe thead th {\n",
       "        text-align: right;\n",
       "    }\n",
       "</style>\n",
       "<table border=\"1\" class=\"dataframe\">\n",
       "  <thead>\n",
       "    <tr style=\"text-align: right;\">\n",
       "      <th></th>\n",
       "      <th>size</th>\n",
       "      <th>price</th>\n",
       "      <th>comedy</th>\n",
       "      <th>drama</th>\n",
       "      <th>fantasy</th>\n",
       "      <th>mystery</th>\n",
       "      <th>romance</th>\n",
       "      <th>thriller</th>\n",
       "      <th>history</th>\n",
       "      <th>n_감동</th>\n",
       "      <th>...</th>\n",
       "      <th>a_아름다운</th>\n",
       "      <th>a_아쉬운</th>\n",
       "      <th>a_예쁜</th>\n",
       "      <th>a_완벽한</th>\n",
       "      <th>a_유쾌한</th>\n",
       "      <th>a_재미있는</th>\n",
       "      <th>a_좋았던</th>\n",
       "      <th>a_즐거운</th>\n",
       "      <th>a_행복한</th>\n",
       "      <th>a_화려한</th>\n",
       "    </tr>\n",
       "  </thead>\n",
       "  <tbody>\n",
       "    <tr>\n",
       "      <th>0</th>\n",
       "      <td>1</td>\n",
       "      <td>150000</td>\n",
       "      <td>0</td>\n",
       "      <td>0</td>\n",
       "      <td>1</td>\n",
       "      <td>0</td>\n",
       "      <td>1</td>\n",
       "      <td>0</td>\n",
       "      <td>0</td>\n",
       "      <td>1</td>\n",
       "      <td>...</td>\n",
       "      <td>6</td>\n",
       "      <td>7</td>\n",
       "      <td>0</td>\n",
       "      <td>0</td>\n",
       "      <td>0</td>\n",
       "      <td>8</td>\n",
       "      <td>10</td>\n",
       "      <td>3</td>\n",
       "      <td>4</td>\n",
       "      <td>5</td>\n",
       "    </tr>\n",
       "    <tr>\n",
       "      <th>1</th>\n",
       "      <td>1</td>\n",
       "      <td>160000</td>\n",
       "      <td>0</td>\n",
       "      <td>1</td>\n",
       "      <td>0</td>\n",
       "      <td>0</td>\n",
       "      <td>0</td>\n",
       "      <td>0</td>\n",
       "      <td>1</td>\n",
       "      <td>6</td>\n",
       "      <td>...</td>\n",
       "      <td>4</td>\n",
       "      <td>5</td>\n",
       "      <td>0</td>\n",
       "      <td>0</td>\n",
       "      <td>0</td>\n",
       "      <td>7</td>\n",
       "      <td>10</td>\n",
       "      <td>6</td>\n",
       "      <td>3</td>\n",
       "      <td>9</td>\n",
       "    </tr>\n",
       "    <tr>\n",
       "      <th>2</th>\n",
       "      <td>1</td>\n",
       "      <td>140000</td>\n",
       "      <td>0</td>\n",
       "      <td>1</td>\n",
       "      <td>0</td>\n",
       "      <td>0</td>\n",
       "      <td>0</td>\n",
       "      <td>0</td>\n",
       "      <td>1</td>\n",
       "      <td>4</td>\n",
       "      <td>...</td>\n",
       "      <td>1</td>\n",
       "      <td>7</td>\n",
       "      <td>0</td>\n",
       "      <td>3</td>\n",
       "      <td>0</td>\n",
       "      <td>8</td>\n",
       "      <td>10</td>\n",
       "      <td>5</td>\n",
       "      <td>4</td>\n",
       "      <td>6</td>\n",
       "    </tr>\n",
       "  </tbody>\n",
       "</table>\n",
       "<p>3 rows × 43 columns</p>\n",
       "</div>"
      ],
      "text/plain": [
       "   size   price  comedy  drama  fantasy  mystery  romance  thriller  history  \\\n",
       "0     1  150000       0      0        1        0        1         0        0   \n",
       "1     1  160000       0      1        0        0        0         0        1   \n",
       "2     1  140000       0      1        0        0        0         0        1   \n",
       "\n",
       "   n_감동  ...  a_아름다운  a_아쉬운  a_예쁜  a_완벽한  a_유쾌한  a_재미있는  a_좋았던  a_즐거운  a_행복한  \\\n",
       "0     1  ...       6      7     0      0      0       8     10      3      4   \n",
       "1     6  ...       4      5     0      0      0       7     10      6      3   \n",
       "2     4  ...       1      7     0      3      0       8     10      5      4   \n",
       "\n",
       "   a_화려한  \n",
       "0      5  \n",
       "1      9  \n",
       "2      6  \n",
       "\n",
       "[3 rows x 43 columns]"
      ]
     },
     "execution_count": 6,
     "metadata": {},
     "output_type": "execute_result"
    }
   ],
   "source": [
    "data.head(3)"
   ]
  },
  {
   "cell_type": "code",
   "execution_count": 7,
   "metadata": {},
   "outputs": [
    {
     "name": "stderr",
     "output_type": "stream",
     "text": [
      "c:\\Users\\mool8\\anaconda3\\lib\\site-packages\\sklearn\\cluster\\_kmeans.py:1332: UserWarning: KMeans is known to have a memory leak on Windows with MKL, when there are less chunks than available threads. You can avoid it by setting the environment variable OMP_NUM_THREADS=1.\n",
      "  warnings.warn(\n",
      "c:\\Users\\mool8\\anaconda3\\lib\\site-packages\\sklearn\\cluster\\_kmeans.py:1332: UserWarning: KMeans is known to have a memory leak on Windows with MKL, when there are less chunks than available threads. You can avoid it by setting the environment variable OMP_NUM_THREADS=1.\n",
      "  warnings.warn(\n",
      "c:\\Users\\mool8\\anaconda3\\lib\\site-packages\\sklearn\\cluster\\_kmeans.py:1332: UserWarning: KMeans is known to have a memory leak on Windows with MKL, when there are less chunks than available threads. You can avoid it by setting the environment variable OMP_NUM_THREADS=1.\n",
      "  warnings.warn(\n",
      "c:\\Users\\mool8\\anaconda3\\lib\\site-packages\\sklearn\\cluster\\_kmeans.py:1332: UserWarning: KMeans is known to have a memory leak on Windows with MKL, when there are less chunks than available threads. You can avoid it by setting the environment variable OMP_NUM_THREADS=1.\n",
      "  warnings.warn(\n",
      "c:\\Users\\mool8\\anaconda3\\lib\\site-packages\\sklearn\\cluster\\_kmeans.py:1332: UserWarning: KMeans is known to have a memory leak on Windows with MKL, when there are less chunks than available threads. You can avoid it by setting the environment variable OMP_NUM_THREADS=1.\n",
      "  warnings.warn(\n",
      "c:\\Users\\mool8\\anaconda3\\lib\\site-packages\\sklearn\\cluster\\_kmeans.py:1332: UserWarning: KMeans is known to have a memory leak on Windows with MKL, when there are less chunks than available threads. You can avoid it by setting the environment variable OMP_NUM_THREADS=1.\n",
      "  warnings.warn(\n",
      "c:\\Users\\mool8\\anaconda3\\lib\\site-packages\\sklearn\\cluster\\_kmeans.py:1332: UserWarning: KMeans is known to have a memory leak on Windows with MKL, when there are less chunks than available threads. You can avoid it by setting the environment variable OMP_NUM_THREADS=1.\n",
      "  warnings.warn(\n",
      "c:\\Users\\mool8\\anaconda3\\lib\\site-packages\\sklearn\\cluster\\_kmeans.py:1332: UserWarning: KMeans is known to have a memory leak on Windows with MKL, when there are less chunks than available threads. You can avoid it by setting the environment variable OMP_NUM_THREADS=1.\n",
      "  warnings.warn(\n",
      "c:\\Users\\mool8\\anaconda3\\lib\\site-packages\\sklearn\\cluster\\_kmeans.py:1332: UserWarning: KMeans is known to have a memory leak on Windows with MKL, when there are less chunks than available threads. You can avoid it by setting the environment variable OMP_NUM_THREADS=1.\n",
      "  warnings.warn(\n"
     ]
    },
    {
     "data": {
      "image/png": "[encoded data removed]",
      "text/plain": [
       "<Figure size 864x432 with 1 Axes>"
      ]
     },
     "metadata": {
      "needs_background": "light"
     },
     "output_type": "display_data"
    }
   ],
   "source": [
    "optimize_cluster(2, 10, data)"
   ]
  },
  {
   "cell_type": "code",
   "execution_count": 8,
   "metadata": {},
   "outputs": [
    {
     "name": "stderr",
     "output_type": "stream",
     "text": [
      "c:\\Users\\mool8\\anaconda3\\lib\\site-packages\\sklearn\\cluster\\_kmeans.py:1332: UserWarning: KMeans is known to have a memory leak on Windows with MKL, when there are less chunks than available threads. You can avoid it by setting the environment variable OMP_NUM_THREADS=1.\n",
      "  warnings.warn(\n"
     ]
    }
   ],
   "source": [
    "kmeans_opt = KMeans(n_clusters=3, random_state=21)\n",
    "label_1 = kmeans_opt.fit_predict(data)"
   ]
  },
  {
   "cell_type": "code",
   "execution_count": 9,
   "metadata": {},
   "outputs": [
    {
     "data": {
      "text/plain": [
       "array([0, 0, 0, 1, 0, 1, 1, 2, 0, 0, 1, 1, 0, 2, 0, 1, 0, 2, 0, 0, 0, 1,\n",
       "       0, 1, 1, 0, 1, 0, 0, 1, 0, 0, 0, 0, 0, 1, 1, 2, 0, 1, 1, 2, 1, 1,\n",
       "       1, 2, 2])"
      ]
     },
     "execution_count": 9,
     "metadata": {},
     "output_type": "execute_result"
    }
   ],
   "source": [
    "label_1"
   ]
  },
  {
   "cell_type": "code",
   "execution_count": 10,
   "metadata": {},
   "outputs": [
    {
     "data": {
      "text/plain": [
       "Counter({0: 22, 1: 18, 2: 7})"
      ]
     },
     "execution_count": 10,
     "metadata": {},
     "output_type": "execute_result"
    }
   ],
   "source": [
    "from collections import Counter\n",
    "\n",
    "Counter(label_1)"
   ]
  },
  {
   "cell_type": "code",
   "execution_count": 11,
   "metadata": {},
   "outputs": [],
   "source": [
    "title[\"label_1\"] = label_1"
   ]
  },
  {
   "cell_type": "code",
   "execution_count": 12,
   "metadata": {},
   "outputs": [
    {
     "data": {
      "text/html": [
       "<div>\n",
       "<style scoped>\n",
       "    .dataframe tbody tr th:only-of-type {\n",
       "        vertical-align: middle;\n",
       "    }\n",
       "\n",
       "    .dataframe tbody tr th {\n",
       "        vertical-align: top;\n",
       "    }\n",
       "\n",
       "    .dataframe thead th {\n",
       "        text-align: right;\n",
       "    }\n",
       "</style>\n",
       "<table border=\"1\" class=\"dataframe\">\n",
       "  <thead>\n",
       "    <tr style=\"text-align: right;\">\n",
       "      <th></th>\n",
       "      <th>title</th>\n",
       "      <th>label_1</th>\n",
       "    </tr>\n",
       "  </thead>\n",
       "  <tbody>\n",
       "    <tr>\n",
       "      <th>0</th>\n",
       "      <td>광화문연가</td>\n",
       "      <td>0</td>\n",
       "    </tr>\n",
       "    <tr>\n",
       "      <th>1</th>\n",
       "      <td>그날들</td>\n",
       "      <td>0</td>\n",
       "    </tr>\n",
       "    <tr>\n",
       "      <th>2</th>\n",
       "      <td>그리스</td>\n",
       "      <td>0</td>\n",
       "    </tr>\n",
       "    <tr>\n",
       "      <th>3</th>\n",
       "      <td>난설</td>\n",
       "      <td>1</td>\n",
       "    </tr>\n",
       "    <tr>\n",
       "      <th>4</th>\n",
       "      <td>드라큘라(Dracula: The Musical)</td>\n",
       "      <td>0</td>\n",
       "    </tr>\n",
       "    <tr>\n",
       "      <th>5</th>\n",
       "      <td>땡큐 베리 스트로베리</td>\n",
       "      <td>1</td>\n",
       "    </tr>\n",
       "    <tr>\n",
       "      <th>6</th>\n",
       "      <td>랭보</td>\n",
       "      <td>1</td>\n",
       "    </tr>\n",
       "    <tr>\n",
       "      <th>7</th>\n",
       "      <td>레드북</td>\n",
       "      <td>2</td>\n",
       "    </tr>\n",
       "    <tr>\n",
       "      <th>8</th>\n",
       "      <td>레베카</td>\n",
       "      <td>0</td>\n",
       "    </tr>\n",
       "    <tr>\n",
       "      <th>9</th>\n",
       "      <td>렌트</td>\n",
       "      <td>0</td>\n",
       "    </tr>\n",
       "    <tr>\n",
       "      <th>10</th>\n",
       "      <td>렛미플라이</td>\n",
       "      <td>1</td>\n",
       "    </tr>\n",
       "    <tr>\n",
       "      <th>11</th>\n",
       "      <td>리지</td>\n",
       "      <td>1</td>\n",
       "    </tr>\n",
       "    <tr>\n",
       "      <th>12</th>\n",
       "      <td>마리앙투아네트</td>\n",
       "      <td>0</td>\n",
       "    </tr>\n",
       "    <tr>\n",
       "      <th>13</th>\n",
       "      <td>마리퀴리</td>\n",
       "      <td>2</td>\n",
       "    </tr>\n",
       "    <tr>\n",
       "      <th>14</th>\n",
       "      <td>맘마미아</td>\n",
       "      <td>0</td>\n",
       "    </tr>\n",
       "    <tr>\n",
       "      <th>15</th>\n",
       "      <td>명동로망스</td>\n",
       "      <td>1</td>\n",
       "    </tr>\n",
       "    <tr>\n",
       "      <th>16</th>\n",
       "      <td>모차르트</td>\n",
       "      <td>0</td>\n",
       "    </tr>\n",
       "    <tr>\n",
       "      <th>17</th>\n",
       "      <td>베르나르다 알바</td>\n",
       "      <td>2</td>\n",
       "    </tr>\n",
       "    <tr>\n",
       "      <th>18</th>\n",
       "      <td>베르테르</td>\n",
       "      <td>0</td>\n",
       "    </tr>\n",
       "    <tr>\n",
       "      <th>19</th>\n",
       "      <td>벤허</td>\n",
       "      <td>0</td>\n",
       "    </tr>\n",
       "    <tr>\n",
       "      <th>20</th>\n",
       "      <td>브로드웨이42번가</td>\n",
       "      <td>0</td>\n",
       "    </tr>\n",
       "    <tr>\n",
       "      <th>21</th>\n",
       "      <td>빈센트 반 고흐</td>\n",
       "      <td>1</td>\n",
       "    </tr>\n",
       "    <tr>\n",
       "      <th>22</th>\n",
       "      <td>빌리엘리어트</td>\n",
       "      <td>0</td>\n",
       "    </tr>\n",
       "    <tr>\n",
       "      <th>23</th>\n",
       "      <td>빨래</td>\n",
       "      <td>1</td>\n",
       "    </tr>\n",
       "    <tr>\n",
       "      <th>24</th>\n",
       "      <td>사의찬미</td>\n",
       "      <td>1</td>\n",
       "    </tr>\n",
       "    <tr>\n",
       "      <th>25</th>\n",
       "      <td>스위니토드</td>\n",
       "      <td>0</td>\n",
       "    </tr>\n",
       "    <tr>\n",
       "      <th>26</th>\n",
       "      <td>시데레우스</td>\n",
       "      <td>1</td>\n",
       "    </tr>\n",
       "    <tr>\n",
       "      <th>27</th>\n",
       "      <td>시카고</td>\n",
       "      <td>0</td>\n",
       "    </tr>\n",
       "    <tr>\n",
       "      <th>28</th>\n",
       "      <td>썸씽로튼</td>\n",
       "      <td>0</td>\n",
       "    </tr>\n",
       "    <tr>\n",
       "      <th>29</th>\n",
       "      <td>아랑가</td>\n",
       "      <td>1</td>\n",
       "    </tr>\n",
       "    <tr>\n",
       "      <th>30</th>\n",
       "      <td>아이다</td>\n",
       "      <td>0</td>\n",
       "    </tr>\n",
       "    <tr>\n",
       "      <th>31</th>\n",
       "      <td>엑스칼리버</td>\n",
       "      <td>0</td>\n",
       "    </tr>\n",
       "    <tr>\n",
       "      <th>32</th>\n",
       "      <td>엘리자벳</td>\n",
       "      <td>0</td>\n",
       "    </tr>\n",
       "    <tr>\n",
       "      <th>33</th>\n",
       "      <td>영웅</td>\n",
       "      <td>0</td>\n",
       "    </tr>\n",
       "    <tr>\n",
       "      <th>34</th>\n",
       "      <td>웃는남자</td>\n",
       "      <td>0</td>\n",
       "    </tr>\n",
       "    <tr>\n",
       "      <th>35</th>\n",
       "      <td>이토록 보통의</td>\n",
       "      <td>1</td>\n",
       "    </tr>\n",
       "    <tr>\n",
       "      <th>36</th>\n",
       "      <td>전설의 리틀 농구단</td>\n",
       "      <td>1</td>\n",
       "    </tr>\n",
       "    <tr>\n",
       "      <th>37</th>\n",
       "      <td>젠틀맨스가이드</td>\n",
       "      <td>2</td>\n",
       "    </tr>\n",
       "    <tr>\n",
       "      <th>38</th>\n",
       "      <td>지킬앤하이드</td>\n",
       "      <td>0</td>\n",
       "    </tr>\n",
       "    <tr>\n",
       "      <th>39</th>\n",
       "      <td>차미</td>\n",
       "      <td>1</td>\n",
       "    </tr>\n",
       "    <tr>\n",
       "      <th>40</th>\n",
       "      <td>쿠로이 저택엔 누가 살고 있을까?</td>\n",
       "      <td>1</td>\n",
       "    </tr>\n",
       "    <tr>\n",
       "      <th>41</th>\n",
       "      <td>킹아더</td>\n",
       "      <td>2</td>\n",
       "    </tr>\n",
       "    <tr>\n",
       "      <th>42</th>\n",
       "      <td>팬레터</td>\n",
       "      <td>1</td>\n",
       "    </tr>\n",
       "    <tr>\n",
       "      <th>43</th>\n",
       "      <td>포미니츠</td>\n",
       "      <td>1</td>\n",
       "    </tr>\n",
       "    <tr>\n",
       "      <th>44</th>\n",
       "      <td>해적</td>\n",
       "      <td>1</td>\n",
       "    </tr>\n",
       "    <tr>\n",
       "      <th>45</th>\n",
       "      <td>헤드윅</td>\n",
       "      <td>2</td>\n",
       "    </tr>\n",
       "    <tr>\n",
       "      <th>46</th>\n",
       "      <td>호프: 읽히지 않은 책과 읽히지 않은 인생</td>\n",
       "      <td>2</td>\n",
       "    </tr>\n",
       "  </tbody>\n",
       "</table>\n",
       "</div>"
      ],
      "text/plain": [
       "                         title  label_1\n",
       "0                        광화문연가        0\n",
       "1                          그날들        0\n",
       "2                          그리스        0\n",
       "3                           난설        1\n",
       "4   드라큘라(Dracula: The Musical)        0\n",
       "5                  땡큐 베리 스트로베리        1\n",
       "6                           랭보        1\n",
       "7                          레드북        2\n",
       "8                          레베카        0\n",
       "9                           렌트        0\n",
       "10                       렛미플라이        1\n",
       "11                          리지        1\n",
       "12                     마리앙투아네트        0\n",
       "13                        마리퀴리        2\n",
       "14                        맘마미아        0\n",
       "15                       명동로망스        1\n",
       "16                        모차르트        0\n",
       "17                    베르나르다 알바        2\n",
       "18                        베르테르        0\n",
       "19                          벤허        0\n",
       "20                   브로드웨이42번가        0\n",
       "21                    빈센트 반 고흐        1\n",
       "22                      빌리엘리어트        0\n",
       "23                          빨래        1\n",
       "24                        사의찬미        1\n",
       "25                       스위니토드        0\n",
       "26                       시데레우스        1\n",
       "27                         시카고        0\n",
       "28                        썸씽로튼        0\n",
       "29                         아랑가        1\n",
       "30                         아이다        0\n",
       "31                       엑스칼리버        0\n",
       "32                        엘리자벳        0\n",
       "33                          영웅        0\n",
       "34                        웃는남자        0\n",
       "35                     이토록 보통의        1\n",
       "36                  전설의 리틀 농구단        1\n",
       "37                     젠틀맨스가이드        2\n",
       "38                      지킬앤하이드        0\n",
       "39                          차미        1\n",
       "40          쿠로이 저택엔 누가 살고 있을까?        1\n",
       "41                         킹아더        2\n",
       "42                         팬레터        1\n",
       "43                        포미니츠        1\n",
       "44                          해적        1\n",
       "45                         헤드윅        2\n",
       "46     호프: 읽히지 않은 책과 읽히지 않은 인생        2"
      ]
     },
     "execution_count": 12,
     "metadata": {},
     "output_type": "execute_result"
    }
   ],
   "source": [
    "title"
   ]
  },
  {
   "cell_type": "code",
   "execution_count": 13,
   "metadata": {},
   "outputs": [
    {
     "name": "stdout",
     "output_type": "stream",
     "text": [
      "[0] ['광화문연가', '그날들', '그리스', '드라큘라(Dracula: The Musical)', '레베카', '렌트', '마리앙투아네트', '맘마미아', '모차르트', '베르테르', '벤허', '브로드웨이42번가', '빌리엘리어트', '스위니토드', '시카고', '썸씽로튼', '아이다', '엑스칼리버', '엘리자벳', '영웅', '웃는남자', '지킬앤하이드']\n",
      "[1] ['난설', '땡큐 베리 스트로베리', '랭보', '렛미플라이', '리지', '명동로망스', '빈센트 반 고흐', '빨래', '사의찬미', '시데레우스', '아랑가', '이토록 보통의', '전설의 리틀 농구단', '차미', '쿠로이 저택엔 누가 살고 있을까?', '팬레터', '포미니츠', '해적']\n",
      "[2] ['레드북', '마리퀴리', '베르나르다 알바', '젠틀맨스가이드', '킹아더', '헤드윅', '호프: 읽히지 않은 책과 읽히지 않은 인생']\n",
      "[3] []\n",
      "[4] []\n",
      "[5] []\n",
      "[6] []\n"
     ]
    }
   ],
   "source": [
    "for i in range(7) :\n",
    "    print(f'[{i}] {list(title[title[\"label_1\"] == i][\"title\"])}')"
   ]
  },
  {
   "attachments": {},
   "cell_type": "markdown",
   "metadata": {},
   "source": []
  },
  {
   "cell_type": "code",
   "execution_count": 39,
   "metadata": {},
   "outputs": [
    {
     "name": "stderr",
     "output_type": "stream",
     "text": [
      "c:\\Users\\mool8\\anaconda3\\lib\\site-packages\\sklearn\\cluster\\_kmeans.py:1332: UserWarning: KMeans is known to have a memory leak on Windows with MKL, when there are less chunks than available threads. You can avoid it by setting the environment variable OMP_NUM_THREADS=1.\n",
      "  warnings.warn(\n"
     ]
    },
    {
     "data": {
      "image/png": "[encoded data removed]",
      "text/plain": [
       "<Figure size 1080x432 with 1 Axes>"
      ]
     },
     "metadata": {
      "needs_background": "light"
     },
     "output_type": "display_data"
    }
   ],
   "source": [
    "vis_cluster(data, 3, \"price\", \"a_좋았던\", \"tab10\")"
   ]
  },
  {
   "cell_type": "code",
   "execution_count": 40,
   "metadata": {},
   "outputs": [],
   "source": [
    "data_s = data.copy()"
   ]
  },
  {
   "cell_type": "code",
   "execution_count": 41,
   "metadata": {},
   "outputs": [
    {
     "data": {
      "text/plain": [
       "Index(['size', 'price', 'comedy', 'drama', 'fantasy', 'mystery', 'romance',\n",
       "       'thriller', 'history', 'n_감동', 'n_내용', 'n_넘버', 'n_노래', 'n_눈물', 'n_마음',\n",
       "       'n_무대', 'n_사랑', 'n_생각', 'n_앙상블', 'n_연기', 'n_연출', 'n_음악', 'n_처음', 'n_최고',\n",
       "       'n_추천', 'n_페어', 'n_힐링', 'a_귀여운', 'a_따듯한', 'a_멋있는', 'a_새로운', 'a_슬픈',\n",
       "       'a_신나는', 'a_아름다운', 'a_아쉬운', 'a_예쁜', 'a_완벽한', 'a_유쾌한', 'a_재미있는', 'a_좋았던',\n",
       "       'a_즐거운', 'a_행복한', 'a_화려한'],\n",
       "      dtype='object')"
      ]
     },
     "execution_count": 41,
     "metadata": {},
     "output_type": "execute_result"
    }
   ],
   "source": [
    "data_s.columns"
   ]
  },
  {
   "cell_type": "code",
   "execution_count": 42,
   "metadata": {},
   "outputs": [],
   "source": [
    "from sklearn.preprocessing import StandardScaler\n",
    "\n",
    "scaler = StandardScaler()  # 평균 0, 분산 1\n",
    "scale_columns = ['price','n_감동', 'n_내용', 'n_넘버', 'n_노래', 'n_눈물', 'n_마음',\n",
    "       'n_무대', 'n_사랑', 'n_생각', 'n_앙상블', 'n_연기', 'n_연출', 'n_음악', 'n_처음', 'n_최고',\n",
    "       'n_추천', 'n_페어', 'n_힐링', 'a_귀여운', 'a_따듯한', 'a_멋있는', 'a_새로운', 'a_슬픈',\n",
    "       'a_신나는', 'a_아름다운', 'a_아쉬운', 'a_예쁜', 'a_완벽한', 'a_유쾌한', 'a_재미있는', 'a_좋았던',\n",
    "       'a_즐거운', 'a_행복한', 'a_화려한']\n",
    "data_s[scale_columns] = scaler.fit_transform(data_s[scale_columns])"
   ]
  },
  {
   "cell_type": "code",
   "execution_count": 45,
   "metadata": {},
   "outputs": [
    {
     "data": {
      "text/html": [
       "<div>\n",
       "<style scoped>\n",
       "    .dataframe tbody tr th:only-of-type {\n",
       "        vertical-align: middle;\n",
       "    }\n",
       "\n",
       "    .dataframe tbody tr th {\n",
       "        vertical-align: top;\n",
       "    }\n",
       "\n",
       "    .dataframe thead th {\n",
       "        text-align: right;\n",
       "    }\n",
       "</style>\n",
       "<table border=\"1\" class=\"dataframe\">\n",
       "  <thead>\n",
       "    <tr style=\"text-align: right;\">\n",
       "      <th></th>\n",
       "      <th>size</th>\n",
       "      <th>price</th>\n",
       "      <th>comedy</th>\n",
       "      <th>drama</th>\n",
       "      <th>fantasy</th>\n",
       "      <th>mystery</th>\n",
       "      <th>romance</th>\n",
       "      <th>thriller</th>\n",
       "      <th>history</th>\n",
       "      <th>n_감동</th>\n",
       "      <th>...</th>\n",
       "      <th>a_아름다운</th>\n",
       "      <th>a_아쉬운</th>\n",
       "      <th>a_예쁜</th>\n",
       "      <th>a_완벽한</th>\n",
       "      <th>a_유쾌한</th>\n",
       "      <th>a_재미있는</th>\n",
       "      <th>a_좋았던</th>\n",
       "      <th>a_즐거운</th>\n",
       "      <th>a_행복한</th>\n",
       "      <th>a_화려한</th>\n",
       "    </tr>\n",
       "  </thead>\n",
       "  <tbody>\n",
       "    <tr>\n",
       "      <th>0</th>\n",
       "      <td>1</td>\n",
       "      <td>1.022161</td>\n",
       "      <td>0</td>\n",
       "      <td>0</td>\n",
       "      <td>1</td>\n",
       "      <td>0</td>\n",
       "      <td>1</td>\n",
       "      <td>0</td>\n",
       "      <td>0</td>\n",
       "      <td>-0.662179</td>\n",
       "      <td>...</td>\n",
       "      <td>1.123425</td>\n",
       "      <td>0.528925</td>\n",
       "      <td>-0.560633</td>\n",
       "      <td>-0.466337</td>\n",
       "      <td>-0.392788</td>\n",
       "      <td>-0.675528</td>\n",
       "      <td>0.769252</td>\n",
       "      <td>-0.614010</td>\n",
       "      <td>-0.399901</td>\n",
       "      <td>1.160081</td>\n",
       "    </tr>\n",
       "    <tr>\n",
       "      <th>1</th>\n",
       "      <td>1</td>\n",
       "      <td>1.280033</td>\n",
       "      <td>0</td>\n",
       "      <td>1</td>\n",
       "      <td>0</td>\n",
       "      <td>0</td>\n",
       "      <td>0</td>\n",
       "      <td>0</td>\n",
       "      <td>1</td>\n",
       "      <td>0.893942</td>\n",
       "      <td>...</td>\n",
       "      <td>0.455058</td>\n",
       "      <td>-0.528925</td>\n",
       "      <td>-0.560633</td>\n",
       "      <td>-0.466337</td>\n",
       "      <td>-0.392788</td>\n",
       "      <td>-1.557467</td>\n",
       "      <td>0.769252</td>\n",
       "      <td>0.481881</td>\n",
       "      <td>-0.921995</td>\n",
       "      <td>2.567147</td>\n",
       "    </tr>\n",
       "    <tr>\n",
       "      <th>2</th>\n",
       "      <td>1</td>\n",
       "      <td>0.764289</td>\n",
       "      <td>0</td>\n",
       "      <td>1</td>\n",
       "      <td>0</td>\n",
       "      <td>0</td>\n",
       "      <td>0</td>\n",
       "      <td>0</td>\n",
       "      <td>1</td>\n",
       "      <td>0.271493</td>\n",
       "      <td>...</td>\n",
       "      <td>-0.547492</td>\n",
       "      <td>0.528925</td>\n",
       "      <td>-0.560633</td>\n",
       "      <td>2.994372</td>\n",
       "      <td>-0.392788</td>\n",
       "      <td>-0.675528</td>\n",
       "      <td>0.769252</td>\n",
       "      <td>0.116584</td>\n",
       "      <td>-0.399901</td>\n",
       "      <td>1.511847</td>\n",
       "    </tr>\n",
       "    <tr>\n",
       "      <th>3</th>\n",
       "      <td>0</td>\n",
       "      <td>-1.427623</td>\n",
       "      <td>0</td>\n",
       "      <td>0</td>\n",
       "      <td>0</td>\n",
       "      <td>0</td>\n",
       "      <td>1</td>\n",
       "      <td>0</td>\n",
       "      <td>1</td>\n",
       "      <td>0.271493</td>\n",
       "      <td>...</td>\n",
       "      <td>0.120875</td>\n",
       "      <td>0.000000</td>\n",
       "      <td>-0.560633</td>\n",
       "      <td>0.687233</td>\n",
       "      <td>-0.392788</td>\n",
       "      <td>1.088351</td>\n",
       "      <td>-0.397033</td>\n",
       "      <td>-0.248713</td>\n",
       "      <td>-1.444088</td>\n",
       "      <td>1.863614</td>\n",
       "    </tr>\n",
       "    <tr>\n",
       "      <th>4</th>\n",
       "      <td>1</td>\n",
       "      <td>1.666841</td>\n",
       "      <td>0</td>\n",
       "      <td>0</td>\n",
       "      <td>1</td>\n",
       "      <td>0</td>\n",
       "      <td>0</td>\n",
       "      <td>0</td>\n",
       "      <td>1</td>\n",
       "      <td>-0.350955</td>\n",
       "      <td>...</td>\n",
       "      <td>-0.547492</td>\n",
       "      <td>0.528925</td>\n",
       "      <td>-0.560633</td>\n",
       "      <td>-0.466337</td>\n",
       "      <td>-0.392788</td>\n",
       "      <td>-0.675528</td>\n",
       "      <td>0.769252</td>\n",
       "      <td>0.116584</td>\n",
       "      <td>-0.399901</td>\n",
       "      <td>1.511847</td>\n",
       "    </tr>\n",
       "  </tbody>\n",
       "</table>\n",
       "<p>5 rows × 43 columns</p>\n",
       "</div>"
      ],
      "text/plain": [
       "   size     price  comedy  drama  fantasy  mystery  romance  thriller  \\\n",
       "0     1  1.022161       0      0        1        0        1         0   \n",
       "1     1  1.280033       0      1        0        0        0         0   \n",
       "2     1  0.764289       0      1        0        0        0         0   \n",
       "3     0 -1.427623       0      0        0        0        1         0   \n",
       "4     1  1.666841       0      0        1        0        0         0   \n",
       "\n",
       "   history      n_감동  ...    a_아름다운     a_아쉬운      a_예쁜     a_완벽한     a_유쾌한  \\\n",
       "0        0 -0.662179  ...  1.123425  0.528925 -0.560633 -0.466337 -0.392788   \n",
       "1        1  0.893942  ...  0.455058 -0.528925 -0.560633 -0.466337 -0.392788   \n",
       "2        1  0.271493  ... -0.547492  0.528925 -0.560633  2.994372 -0.392788   \n",
       "3        1  0.271493  ...  0.120875  0.000000 -0.560633  0.687233 -0.392788   \n",
       "4        1 -0.350955  ... -0.547492  0.528925 -0.560633 -0.466337 -0.392788   \n",
       "\n",
       "     a_재미있는     a_좋았던     a_즐거운     a_행복한     a_화려한  \n",
       "0 -0.675528  0.769252 -0.614010 -0.399901  1.160081  \n",
       "1 -1.557467  0.769252  0.481881 -0.921995  2.567147  \n",
       "2 -0.675528  0.769252  0.116584 -0.399901  1.511847  \n",
       "3  1.088351 -0.397033 -0.248713 -1.444088  1.863614  \n",
       "4 -0.675528  0.769252  0.116584 -0.399901  1.511847  \n",
       "\n",
       "[5 rows x 43 columns]"
      ]
     },
     "execution_count": 45,
     "metadata": {},
     "output_type": "execute_result"
    }
   ],
   "source": [
    "data_s.head()"
   ]
  },
  {
   "cell_type": "code",
   "execution_count": 43,
   "metadata": {},
   "outputs": [
    {
     "name": "stderr",
     "output_type": "stream",
     "text": [
      "c:\\Users\\mool8\\anaconda3\\lib\\site-packages\\sklearn\\cluster\\_kmeans.py:1332: UserWarning: KMeans is known to have a memory leak on Windows with MKL, when there are less chunks than available threads. You can avoid it by setting the environment variable OMP_NUM_THREADS=1.\n",
      "  warnings.warn(\n",
      "c:\\Users\\mool8\\anaconda3\\lib\\site-packages\\sklearn\\cluster\\_kmeans.py:1332: UserWarning: KMeans is known to have a memory leak on Windows with MKL, when there are less chunks than available threads. You can avoid it by setting the environment variable OMP_NUM_THREADS=1.\n",
      "  warnings.warn(\n",
      "c:\\Users\\mool8\\anaconda3\\lib\\site-packages\\sklearn\\cluster\\_kmeans.py:1332: UserWarning: KMeans is known to have a memory leak on Windows with MKL, when there are less chunks than available threads. You can avoid it by setting the environment variable OMP_NUM_THREADS=1.\n",
      "  warnings.warn(\n",
      "c:\\Users\\mool8\\anaconda3\\lib\\site-packages\\sklearn\\cluster\\_kmeans.py:1332: UserWarning: KMeans is known to have a memory leak on Windows with MKL, when there are less chunks than available threads. You can avoid it by setting the environment variable OMP_NUM_THREADS=1.\n",
      "  warnings.warn(\n",
      "c:\\Users\\mool8\\anaconda3\\lib\\site-packages\\sklearn\\cluster\\_kmeans.py:1332: UserWarning: KMeans is known to have a memory leak on Windows with MKL, when there are less chunks than available threads. You can avoid it by setting the environment variable OMP_NUM_THREADS=1.\n",
      "  warnings.warn(\n",
      "c:\\Users\\mool8\\anaconda3\\lib\\site-packages\\sklearn\\cluster\\_kmeans.py:1332: UserWarning: KMeans is known to have a memory leak on Windows with MKL, when there are less chunks than available threads. You can avoid it by setting the environment variable OMP_NUM_THREADS=1.\n",
      "  warnings.warn(\n",
      "c:\\Users\\mool8\\anaconda3\\lib\\site-packages\\sklearn\\cluster\\_kmeans.py:1332: UserWarning: KMeans is known to have a memory leak on Windows with MKL, when there are less chunks than available threads. You can avoid it by setting the environment variable OMP_NUM_THREADS=1.\n",
      "  warnings.warn(\n",
      "c:\\Users\\mool8\\anaconda3\\lib\\site-packages\\sklearn\\cluster\\_kmeans.py:1332: UserWarning: KMeans is known to have a memory leak on Windows with MKL, when there are less chunks than available threads. You can avoid it by setting the environment variable OMP_NUM_THREADS=1.\n",
      "  warnings.warn(\n",
      "c:\\Users\\mool8\\anaconda3\\lib\\site-packages\\sklearn\\cluster\\_kmeans.py:1332: UserWarning: KMeans is known to have a memory leak on Windows with MKL, when there are less chunks than available threads. You can avoid it by setting the environment variable OMP_NUM_THREADS=1.\n",
      "  warnings.warn(\n"
     ]
    },
    {
     "data": {
      "image/png": "[encoded data removed]",
      "text/plain": [
       "<Figure size 864x432 with 1 Axes>"
      ]
     },
     "metadata": {
      "needs_background": "light"
     },
     "output_type": "display_data"
    }
   ],
   "source": [
    "optimize_cluster(2, 10, data_s)"
   ]
  },
  {
   "cell_type": "code",
   "execution_count": 51,
   "metadata": {},
   "outputs": [
    {
     "name": "stderr",
     "output_type": "stream",
     "text": [
      "c:\\Users\\mool8\\anaconda3\\lib\\site-packages\\sklearn\\cluster\\_kmeans.py:1332: UserWarning: KMeans is known to have a memory leak on Windows with MKL, when there are less chunks than available threads. You can avoid it by setting the environment variable OMP_NUM_THREADS=1.\n",
      "  warnings.warn(\n"
     ]
    }
   ],
   "source": [
    "kmeans_opt = KMeans(n_clusters=9, random_state=21)\n",
    "label_2 = kmeans_opt.fit_predict(data_s)"
   ]
  },
  {
   "cell_type": "code",
   "execution_count": 52,
   "metadata": {},
   "outputs": [
    {
     "data": {
      "text/plain": [
       "Counter({1: 13, 3: 8, 2: 6, 0: 1, 4: 6, 8: 5, 5: 2, 7: 2, 6: 4})"
      ]
     },
     "execution_count": 52,
     "metadata": {},
     "output_type": "execute_result"
    }
   ],
   "source": [
    "Counter(label_2)"
   ]
  },
  {
   "cell_type": "code",
   "execution_count": 54,
   "metadata": {},
   "outputs": [
    {
     "name": "stdout",
     "output_type": "stream",
     "text": [
      "[0] ['리지']\n",
      "[1] ['광화문연가', '그날들', '땡큐 베리 스트로베리', '스위니토드', '시데레우스', '썸씽로튼', '아랑가', '아이다', '엘리자벳', '영웅', '전설의 리틀 농구단', '헤드윅', '호프: 읽히지 않은 책과 읽히지 않은 인생']\n",
      "[2] ['레베카', '렌트', '렛미플라이', '마리앙투아네트', '마리퀴리', '맘마미아']\n",
      "[3] ['그리스', '난설', '드라큘라(Dracula: The Musical)', '랭보', '레드북', '시카고', '엑스칼리버', '해적']\n",
      "[4] ['명동로망스', '모차르트', '베르나르다 알바', '베르테르', '젠틀맨스가이드', '지킬앤하이드']\n",
      "[5] ['빈센트 반 고흐', '빌리엘리어트']\n",
      "[6] ['차미', '쿠로이 저택엔 누가 살고 있을까?', '킹아더', '팬레터']\n",
      "[7] ['웃는남자', '이토록 보통의']\n",
      "[8] ['벤허', '브로드웨이42번가', '빨래', '사의찬미', '포미니츠']\n"
     ]
    }
   ],
   "source": [
    "title[\"label_2\"] = label_2\n",
    "\n",
    "for i in range(9) :\n",
    "    print(f'[{i}] {list(title[title[\"label_2\"] == i][\"title\"])}')"
   ]
  },
  {
   "attachments": {},
   "cell_type": "markdown",
   "metadata": {},
   "source": [
    "------------"
   ]
  }
 ],
 "metadata": {
  "kernelspec": {
   "display_name": "base",
   "language": "python",
   "name": "python3"
  },
  "language_info": {
   "codemirror_mode": {
    "name": "ipython",
    "version": 3
   },
   "file_extension": ".py",
   "mimetype": "text/x-python",
   "name": "python",
   "nbconvert_exporter": "python",
   "pygments_lexer": "ipython3",
   "version": "3.8.8"
  },
  "orig_nbformat": 4
 },
 "nbformat": 4,
 "nbformat_minor": 2
}
